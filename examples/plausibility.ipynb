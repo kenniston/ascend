{
 "cells": [
  {
   "cell_type": "markdown",
   "metadata": {},
   "source": [
    "### Install Modules"
   ]
  },
  {
   "cell_type": "code",
   "execution_count": null,
   "metadata": {},
   "outputs": [],
   "source": [
    "%pip install ascendcontroller"
   ]
  },
  {
   "cell_type": "markdown",
   "metadata": {},
   "source": [
    "### Imports"
   ]
  },
  {
   "cell_type": "code",
   "execution_count": 9,
   "metadata": {},
   "outputs": [],
   "source": [
    "import pandas\n",
    "from ascendcontroller.base import CSVRunner, FeatureParam, Feature, FeatureResult\n",
    "from ascendcontroller.features.art import ArtFeature, ArtFeatureParam\n"
   ]
  },
  {
   "cell_type": "markdown",
   "metadata": {},
   "source": [
    "### Acceptance Range Threshold (ART) Param Parser\n",
    "Use this class to prepare Data Frame for **ART Feature**.\n",
    "\n",
    "**ART Feature** requires a **specific** Data Frame with the following columns:\n",
    "* senderPosition        - (x, y, z) tuple\n",
    "* receiverPosition      - (x, y, z) tuple\n",
    "* attackerType          - integer for attack type [0 - normal, 1 - attack]"
   ]
  },
  {
   "cell_type": "code",
   "execution_count": 10,
   "metadata": {},
   "outputs": [],
   "source": [
    "class ArtParam(ArtFeatureParam):\n",
    "    def build(data: pandas.DataFrame):\n",
    "        param = ArtParam()\n",
    "        # Configure the Thresolds for Acceptance Range feature\n",
    "        param.thresholds = [100, 200, 300, 400, 450, 500, 550, 600, 700, 800]\n",
    "\n",
    "        # Create the required columns for the feature\n",
    "        data['senderPosition'] = data.apply(lambda row: (row.pxSnd, row.pySnd, row.pzSnd), axis=1)\n",
    "        data['receiverPosition'] = data.apply(lambda row: (row.pxRcv, row.pyRcv, row.pzRcv), axis=1)\n",
    "        data['messageID'] = data.apply(lambda row: int(row.messageID), axis=1)\n",
    "        data['sender'] = data.apply(lambda row: int(row.sender), axis=1)\n",
    "\n",
    "        # Drop unnecessary columns from Data Frame\n",
    "        data = data.drop(columns=['Unnamed: 0', 'sendTime', 'gpsTime', 'rcvTime', 'pxSnd', 'pySnd',\n",
    "                                  'pzSnd', 'sxSnd', 'sySnd', 'szSnd', 'pxRcv', 'pyRcv', 'pzRcv',\n",
    "                                  'sxRcv', 'syRcv', 'szRcv'])\n",
    "\n",
    "        param.data = data\n",
    "        return param\n"
   ]
  },
  {
   "cell_type": "markdown",
   "metadata": {},
   "source": [
    "### CSV Runner\n",
    "CSV Runner load all files from source directory, create processes (up to CPU count) to process\n",
    "files and execute features for each file."
   ]
  },
  {
   "cell_type": "code",
   "execution_count": null,
   "metadata": {},
   "outputs": [],
   "source": [
    "root_path = \"/home/kenniston/mestrado-ita/materiais/SBSeg/projetos/dataset-veremi/simulationscsv2\"\n",
    "\n",
    "# VeReMi Misbehavior file filter\n",
    "filter = [*range(10, 15)] + [*range(40, 45)] + [*range(55, 60)] + \\\n",
    "    [*range(85, 90)] + [*range(100, 105)] + [*range(130, 135)] + \\\n",
    "    [*range(145, 150)] + [*range(175, 180)]\n",
    "\n",
    "CSVRunner(\n",
    "    path=root_path,\n",
    "    destination=f'{root_path}/result-plausibility/',\n",
    "    features=[ArtFeature(factory=ArtParam)],\n",
    "    idxfilter=filter\n",
    ").process()\n"
   ]
  }
 ],
 "metadata": {
  "interpreter": {
   "hash": "0ad672d8ebba2c814a8fe095fb86ded7e8e1d449ef782df77117d693d315c458"
  },
  "kernelspec": {
   "display_name": "Python 3.9.5 ('venv': venv)",
   "language": "python",
   "name": "python3"
  },
  "language_info": {
   "codemirror_mode": {
    "name": "ipython",
    "version": 3
   },
   "file_extension": ".py",
   "mimetype": "text/x-python",
   "name": "python",
   "nbconvert_exporter": "python",
   "pygments_lexer": "ipython3",
   "version": "3.9.5"
  },
  "orig_nbformat": 4
 },
 "nbformat": 4,
 "nbformat_minor": 2
}
