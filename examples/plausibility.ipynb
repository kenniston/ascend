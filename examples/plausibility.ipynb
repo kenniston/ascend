{
 "cells": [
  {
   "cell_type": "markdown",
   "metadata": {},
   "source": [
    "#### Install Modules"
   ]
  },
  {
   "cell_type": "code",
   "execution_count": null,
   "metadata": {},
   "outputs": [],
   "source": [
    "%pip install ascendcontroller"
   ]
  },
  {
   "cell_type": "markdown",
   "metadata": {},
   "source": [
    "#### Imports"
   ]
  },
  {
   "cell_type": "code",
   "execution_count": 1,
   "metadata": {},
   "outputs": [
    {
     "ename": "ModuleNotFoundError",
     "evalue": "No module named 'ascendcontroler'",
     "output_type": "error",
     "traceback": [
      "\u001b[0;31m---------------------------------------------------------------------------\u001b[0m",
      "\u001b[0;31mModuleNotFoundError\u001b[0m                       Traceback (most recent call last)",
      "\u001b[1;32m/home/kenniston/mestrado-ita/materiais/SBSeg/projetos/controller/framework/examples/plausibility.ipynb Cell 4'\u001b[0m in \u001b[0;36m<cell line: 2>\u001b[0;34m()\u001b[0m\n\u001b[1;32m      <a href='vscode-notebook-cell:/home/kenniston/mestrado-ita/materiais/SBSeg/projetos/controller/framework/examples/plausibility.ipynb#ch0000003?line=0'>1</a>\u001b[0m \u001b[39mimport\u001b[39;00m \u001b[39mpandas\u001b[39;00m\n\u001b[0;32m----> <a href='vscode-notebook-cell:/home/kenniston/mestrado-ita/materiais/SBSeg/projetos/controller/framework/examples/plausibility.ipynb#ch0000003?line=1'>2</a>\u001b[0m \u001b[39mfrom\u001b[39;00m \u001b[39mascendcontroler\u001b[39;00m\u001b[39m.\u001b[39;00m\u001b[39mbase\u001b[39;00m \u001b[39mimport\u001b[39;00m FeatureRunner, FeatureParam, Feature, FeatureResult\n\u001b[1;32m      <a href='vscode-notebook-cell:/home/kenniston/mestrado-ita/materiais/SBSeg/projetos/controller/framework/examples/plausibility.ipynb#ch0000003?line=2'>3</a>\u001b[0m \u001b[39mfrom\u001b[39;00m \u001b[39mascendcontroler\u001b[39;00m\u001b[39m.\u001b[39;00m\u001b[39mfeatures\u001b[39;00m\u001b[39m.\u001b[39;00m\u001b[39mart\u001b[39;00m \u001b[39mimport\u001b[39;00m ArtFeature, ArtFeatureParam\n\u001b[1;32m      <a href='vscode-notebook-cell:/home/kenniston/mestrado-ita/materiais/SBSeg/projetos/controller/framework/examples/plausibility.ipynb#ch0000003?line=3'>4</a>\u001b[0m \u001b[39mfrom\u001b[39;00m \u001b[39mascendcontroler\u001b[39;00m\u001b[39m.\u001b[39;00m\u001b[39mfeatures\u001b[39;00m\u001b[39m.\u001b[39;00m\u001b[39mcommon\u001b[39;00m \u001b[39mimport\u001b[39;00m CommonFeature\n",
      "\u001b[0;31mModuleNotFoundError\u001b[0m: No module named 'ascendcontroler'"
     ]
    }
   ],
   "source": [
    "import pandas\n",
    "from ascendcontroller.base import FeatureRunner, FeatureParam, Feature, FeatureResult\n",
    "from ascendcontroller.features.art import ArtFeature, ArtFeatureParam\n",
    "from ascendcontroller.features.common import CommonFeature\n"
   ]
  },
  {
   "cell_type": "markdown",
   "metadata": {},
   "source": [
    "### Acceptance Range Threshold Param Parser"
   ]
  },
  {
   "cell_type": "code",
   "execution_count": null,
   "metadata": {},
   "outputs": [],
   "source": [
    "class ArtParam(ArtFeatureParam):\n",
    "    def build(data: pandas.DataFrame):\n",
    "        param = ArtParam()\n",
    "        param.thresholds = [100, 200, 300, 400, 450, 500, 550, 600, 700, 800]\n",
    "        param.svect = (data['pxSnd'], data['pySnd'], data['pzSnd'])\n",
    "        param.rvect = (data['pxRcv'], data['pyRcv'], data['pzRcv'])\n",
    "        param.atype = int(data['attackerType'])\n",
    "        return param"
   ]
  }
 ],
 "metadata": {
  "interpreter": {
   "hash": "0ad672d8ebba2c814a8fe095fb86ded7e8e1d449ef782df77117d693d315c458"
  },
  "kernelspec": {
   "display_name": "Python 3.9.5 ('venv': venv)",
   "language": "python",
   "name": "python3"
  },
  "language_info": {
   "codemirror_mode": {
    "name": "ipython",
    "version": 3
   },
   "file_extension": ".py",
   "mimetype": "text/x-python",
   "name": "python",
   "nbconvert_exporter": "python",
   "pygments_lexer": "ipython3",
   "version": "3.9.5"
  },
  "orig_nbformat": 4
 },
 "nbformat": 4,
 "nbformat_minor": 2
}
