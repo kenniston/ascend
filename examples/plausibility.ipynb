{
 "cells": [
  {
   "cell_type": "markdown",
   "metadata": {},
   "source": [
    "### Install Modules"
   ]
  },
  {
   "cell_type": "code",
   "execution_count": null,
   "metadata": {},
   "outputs": [],
   "source": [
    "# %pip install ascendcontroller"
   ]
  },
  {
   "cell_type": "markdown",
   "metadata": {},
   "source": [
    "### Imports"
   ]
  },
  {
   "cell_type": "code",
   "execution_count": 4,
   "metadata": {},
   "outputs": [],
   "source": [
    "import pandas\n",
    "from ascendcontroller.veremi import *\n",
    "from ascendcontroller.features.art import ArtFeature, ArtFeatureParam\n",
    "from ascendcontroller.features.dmv import DmvFeature, DmvFeatureParam\n",
    "from ascendcontroller.features.ssc import SscFeature, SscFeatureParam\n",
    "from ascendcontroller.features.saw import SawFeature, SawFeatureParam\n",
    "from ascendcontroller.base import CsvRunner"
   ]
  },
  {
   "cell_type": "markdown",
   "metadata": {},
   "source": [
    "### Distance Moved Verifier (DMV) Param Parser\n",
    "Use this class to prepare Data Frame for **DMV Feature**.\n",
    "\n",
    "**DMV Feature** requires a **specific** Data Frame with the following columns:\n",
    "* sender                - sender ID\n",
    "* senderPosition        - (x, y, z) tuple\n",
    "* attackerType          - integer for attack type [0-normal, 1-attack, 2-attack, 4-attack, 8-attack, 16-attack]"
   ]
  },
  {
   "cell_type": "code",
   "execution_count": null,
   "metadata": {},
   "outputs": [],
   "source": [
    "class DmvParam(DmvFeatureParam):\n",
    "    def build(data: pandas.DataFrame):\n",
    "        param = DmvParam()\n",
    "        # Configure the Thresolds for Distance Moved Verifier\n",
    "        param.thresholds = [1, 5, 10, 15, 20, 25]\n",
    "\n",
    "        # Create the required columns for the feature\n",
    "        data['senderPosition'] = data.apply(lambda row: (row.pxSnd, row.pySnd, row.pzSnd), axis=1)\n",
    "        data['messageID'] = data.apply(lambda row: int(row.messageID), axis=1)\n",
    "        data['sender'] = data.apply(lambda row: int(row.sender), axis=1)\n",
    "\n",
    "        # Drop unnecessary columns from Data Frame\n",
    "        data = data.drop(columns=['Unnamed: 0', 'sendTime', 'gpsTime', 'pxSnd', 'pySnd',\n",
    "                                  'pzSnd', 'sxSnd', 'sySnd', 'szSnd', 'pxRcv', 'pyRcv', 'pzRcv',\n",
    "                                  'sxRcv', 'syRcv', 'szRcv'])\n",
    "\n",
    "        param.data = data\n",
    "        return param"
   ]
  },
  {
   "cell_type": "markdown",
   "metadata": {},
   "source": [
    "### Acceptance Range Threshold (ART) Param Parser\n",
    "Use this class to prepare Data Frame for **ART Feature**.\n",
    "\n",
    "**ART Feature** requires a **specific** Data Frame with the following columns:\n",
    "* senderPosition        - (x, y, z) tuple\n",
    "* receiverPosition      - (x, y, z) tuple\n",
    "* attackerType          - integer for attack type [0-normal, 1-attack, 2-attack, 4-attack, 8-attack, 16-attack]"
   ]
  },
  {
   "cell_type": "code",
   "execution_count": null,
   "metadata": {},
   "outputs": [],
   "source": [
    "class ArtParam(ArtFeatureParam):\n",
    "    def build(data: pandas.DataFrame):\n",
    "        param = ArtParam()\n",
    "        # Configure the Thresolds for Acceptance Range feature\n",
    "        param.thresholds = [100, 200, 300, 400, 450, 500, 550, 600, 700, 800]\n",
    "\n",
    "        # Create the required columns for the feature\n",
    "        data['senderPosition'] = data.apply(lambda row: (row.pxSnd, row.pySnd, row.pzSnd), axis=1)\n",
    "        data['receiverPosition'] = data.apply(lambda row: (row.pxRcv, row.pyRcv, row.pzRcv), axis=1)\n",
    "        data['messageID'] = data.apply(lambda row: int(row.messageID), axis=1)\n",
    "        data['sender'] = data.apply(lambda row: int(row.sender), axis=1)\n",
    "\n",
    "        # Drop unnecessary columns from Data Frame\n",
    "        data = data.drop(columns=['Unnamed: 0', 'sendTime', 'gpsTime', 'rcvTime', 'pxSnd', 'pySnd',\n",
    "                                  'pzSnd', 'sxSnd', 'sySnd', 'szSnd', 'pxRcv', 'pyRcv', 'pzRcv',\n",
    "                                  'sxRcv', 'syRcv', 'szRcv'])\n",
    "\n",
    "        param.data = data\n",
    "        return param\n"
   ]
  },
  {
   "cell_type": "markdown",
   "metadata": {},
   "source": [
    "### Simple Speed Checker (SSC) Param Parser\n",
    "Use this class to prepare Data Frame for **SSC Feature**.\n",
    "\n",
    "**SSC Feature** requires a **specific** Data Frame with the following columns:\n",
    "* sender                - sender ID\n",
    "* senderPosition        - (x, y, z) tuple\n",
    "* senderSpeed           - (x, y, z) tuple\n",
    "* rcvTime               - Message arrival time\n",
    "* attackerType          - integer for attack type [0-normal, 1-attack, 2-attack, 4-attack, 8-attack, 16-attack]"
   ]
  },
  {
   "cell_type": "code",
   "execution_count": 2,
   "metadata": {},
   "outputs": [],
   "source": [
    "class SscParam(SscFeatureParam):\n",
    "    def build(data: pandas.DataFrame):\n",
    "        param = SscParam()\n",
    "        # Configure the Thresolds for Distance Moved Verifier\n",
    "        param.thresholds = [2.5, 5, 7.5, 10, 15, 20, 25]\n",
    "\n",
    "        # Create the required columns for the feature\n",
    "        data['senderPosition'] = data.apply(lambda row: (row.pxSnd, row.pySnd, row.pzSnd), axis=1)\n",
    "        data['senderSpeed'] = data.apply(lambda row: (row.sxSnd, row.sySnd, row.szSnd), axis=1)\n",
    "        data['messageID'] = data.apply(lambda row: int(row.messageID), axis=1)\n",
    "        data['sender'] = data.apply(lambda row: int(row.sender), axis=1)\n",
    "\n",
    "        # Drop unnecessary columns from Data Frame\n",
    "        data = data.drop(columns=['Unnamed: 0', 'sendTime', 'gpsTime', 'pxSnd', 'pySnd',\n",
    "                                  'pzSnd', 'sxSnd', 'sySnd', 'szSnd', 'pxRcv', 'pyRcv', 'pzRcv',\n",
    "                                  'sxRcv', 'syRcv', 'szRcv'])\n",
    "\n",
    "        param.data = data\n",
    "        return param"
   ]
  },
  {
   "cell_type": "markdown",
   "metadata": {},
   "source": [
    "### Sudden Appearance Warning (SAW) Param Parser\n",
    "Use this class to prepare Data Frame for **SAW Feature**.\n",
    "\n",
    "**SAW Feature** requires a **specific** Data Frame with the following columns:\n",
    "* senderPosition        - (x, y, z) tuple\n",
    "* receiverPosition      - (x, y, z) tuple\n",
    "* attackerType          - integer for attack type [0-normal, 1-attack, 2-attack, 4-attack, 8-attack, 16-attack]"
   ]
  },
  {
   "cell_type": "code",
   "execution_count": 5,
   "metadata": {},
   "outputs": [],
   "source": [
    "class SawParam(SawFeatureParam):\n",
    "    def build(data: pandas.DataFrame):\n",
    "        param = SawParam()\n",
    "        param.thresholds = [25, 100, 200]\n",
    "\n",
    "        data['senderPosition'] = data.apply(lambda row: (row.pxSnd, row.pySnd, row.pzSnd), axis=1)\n",
    "        data['receiverPosition'] = data.apply(lambda row: (row.pxRcv, row.pyRcv, row.pzRcv), axis=1)\n",
    "        data['messageID'] = data.apply(lambda row: int(row.messageID), axis=1)\n",
    "        data['sender'] = data.apply(lambda row: int(row.sender), axis=1)\n",
    "\n",
    "        data = data.drop(columns=['Unnamed: 0', 'sendTime', 'gpsTime', 'rcvTime', 'pxSnd', 'pySnd',\n",
    "                                  'pzSnd', 'sxSnd', 'sySnd', 'szSnd', 'pxRcv', 'pyRcv', 'pzRcv',\n",
    "                                  'sxRcv', 'syRcv', 'szRcv'])\n",
    "\n",
    "        param.data = data\n",
    "        return param"
   ]
  },
  {
   "cell_type": "markdown",
   "metadata": {},
   "source": [
    "### CSV Runner\n",
    "CSV Runner load all files from source directory, create processes (up to CPU count) to process\n",
    "files and execute features for each file."
   ]
  },
  {
   "cell_type": "code",
   "execution_count": 2,
   "metadata": {},
   "outputs": [],
   "source": [
    "root_path = \"/home/kenniston/mestrado-ita/materiais/SBSeg/projetos/dataset-veremi/simulationscsv2\"\n",
    "result_path = f'{root_path}/result-plausibility/'"
   ]
  },
  {
   "cell_type": "code",
   "execution_count": 4,
   "metadata": {},
   "outputs": [
    {
     "name": "stdout",
     "output_type": "stream",
     "text": [
      "Running features...\n",
      "Start time: 01:30:33.557662\n"
     ]
    }
   ],
   "source": [
    "# VeReMi Misbehavior file filter\n",
    "file_filter = VEHICULAR_LOW_ATTACK1_HIGH + VEHICULAR_HIGH_ATTACK1_HIGH + \\\n",
    "    VEHICULAR_LOW_ATTACK2_HIGH + VEHICULAR_HIGH_ATTACK2_HIGH + \\\n",
    "    VEHICULAR_LOW_ATTACK4_HIGH + VEHICULAR_HIGH_ATTACK4_HIGH + \\\n",
    "    VEHICULAR_LOW_ATTACK8_HIGH + VEHICULAR_HIGH_ATTACK8_HIGH\n",
    "\n",
    "CsvRunner(\n",
    "    path=root_path,\n",
    "    destination=result_path,\n",
    "    features=[SawFeature(factory=SawParam)],\n",
    "    idxfilter=file_filter\n",
    ").process()\n"
   ]
  },
  {
   "cell_type": "markdown",
   "metadata": {},
   "source": [
    "### Performance Results for Low and High Density\n"
   ]
  },
  {
   "cell_type": "code",
   "execution_count": 3,
   "metadata": {},
   "outputs": [
    {
     "data": {
      "image/png": "[encoded data removed]",
      "text/plain": [
       "<Figure size 1584x432 with 2 Axes>"
      ]
     },
     "metadata": {
      "needs_background": "light"
     },
     "output_type": "display_data"
    }
   ],
   "source": [
    "PeformanceResult.attacker1_result(result_path)"
   ]
  }
 ],
 "metadata": {
  "interpreter": {
   "hash": "0ad672d8ebba2c814a8fe095fb86ded7e8e1d449ef782df77117d693d315c458"
  },
  "kernelspec": {
   "display_name": "Python 3.9.5 ('venv': venv)",
   "language": "python",
   "name": "python3"
  },
  "language_info": {
   "codemirror_mode": {
    "name": "ipython",
    "version": 3
   },
   "file_extension": ".py",
   "mimetype": "text/x-python",
   "name": "python",
   "nbconvert_exporter": "python",
   "pygments_lexer": "ipython3",
   "version": "3.9.5"
  },
  "orig_nbformat": 4
 },
 "nbformat": 4,
 "nbformat_minor": 2
}
