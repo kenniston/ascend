{
 "cells": [
  {
   "cell_type": "markdown",
   "metadata": {},
   "source": [
    "### Install Modules"
   ]
  },
  {
   "cell_type": "code",
   "execution_count": null,
   "metadata": {},
   "outputs": [],
   "source": [
    "%pip install ascendcontroller\n",
    "%pip install matplotlib"
   ]
  },
  {
   "cell_type": "markdown",
   "metadata": {},
   "source": [
    "### Imports"
   ]
  },
  {
   "cell_type": "code",
   "execution_count": 1,
   "metadata": {},
   "outputs": [],
   "source": [
    "import os\n",
    "import re\n",
    "import pandas\n",
    "from typing import Sequence\n",
    "import matplotlib.pyplot as plt\n",
    "from ascendcontroller.veremi import *\n",
    "from ascendcontroller.features.art import ArtFeature, ArtFeatureParam\n",
    "from ascendcontroller.base import CsvRunner, FeatureParam, Feature, FeatureResult\n"
   ]
  },
  {
   "cell_type": "markdown",
   "metadata": {},
   "source": [
    "### Acceptance Range Threshold (ART) Param Parser\n",
    "Use this class to prepare Data Frame for **ART Feature**.\n",
    "\n",
    "**ART Feature** requires a **specific** Data Frame with the following columns:\n",
    "* senderPosition        - (x, y, z) tuple\n",
    "* receiverPosition      - (x, y, z) tuple\n",
    "* attackerType          - integer for attack type [0 - normal, 1 - attack]"
   ]
  },
  {
   "cell_type": "code",
   "execution_count": 2,
   "metadata": {},
   "outputs": [],
   "source": [
    "class ArtParam(ArtFeatureParam):\n",
    "    def build(data: pandas.DataFrame):\n",
    "        param = ArtParam()\n",
    "        # Configure the Thresolds for Acceptance Range feature\n",
    "        param.thresholds = [100, 200, 300, 400, 450, 500, 550, 600, 700, 800]\n",
    "\n",
    "        # Create the required columns for the feature\n",
    "        data['senderPosition'] = data.apply(lambda row: (row.pxSnd, row.pySnd, row.pzSnd), axis=1)\n",
    "        data['receiverPosition'] = data.apply(lambda row: (row.pxRcv, row.pyRcv, row.pzRcv), axis=1)\n",
    "        data['messageID'] = data.apply(lambda row: int(row.messageID), axis=1)\n",
    "        data['sender'] = data.apply(lambda row: int(row.sender), axis=1)\n",
    "\n",
    "        # Drop unnecessary columns from Data Frame\n",
    "        data = data.drop(columns=['Unnamed: 0', 'sendTime', 'gpsTime', 'rcvTime', 'pxSnd', 'pySnd',\n",
    "                                  'pzSnd', 'sxSnd', 'sySnd', 'szSnd', 'pxRcv', 'pyRcv', 'pzRcv',\n",
    "                                  'sxRcv', 'syRcv', 'szRcv'])\n",
    "\n",
    "        param.data = data\n",
    "        return param\n"
   ]
  },
  {
   "cell_type": "markdown",
   "metadata": {},
   "source": [
    "### CSV Runner\n",
    "CSV Runner load all files from source directory, create processes (up to CPU count) to process\n",
    "files and execute features for each file."
   ]
  },
  {
   "cell_type": "code",
   "execution_count": 3,
   "metadata": {},
   "outputs": [],
   "source": [
    "root_path = \"/home/kenniston/mestrado-ita/materiais/SBSeg/projetos/dataset-veremi/simulationscsv2\"\n",
    "result_path = f'{root_path}/result-plausibility/'\n",
    "\n",
    "# VeReMi Misbehavior file filter\n",
    "file_filter = VEHICULAR_LOW_ATTACK1_HIGH + VEHICULAR_HIGH_ATTACK1_HIGH + \\\n",
    "    VEHICULAR_LOW_ATTACK2_HIGH + VEHICULAR_HIGH_ATTACK2_HIGH + \\\n",
    "    VEHICULAR_LOW_ATTACK4_HIGH + VEHICULAR_HIGH_ATTACK4_HIGH + \\\n",
    "    VEHICULAR_LOW_ATTACK8_HIGH + VEHICULAR_HIGH_ATTACK8_HIGH\n",
    "\n",
    "CsvRunner(\n",
    "    path=root_path,\n",
    "    destination=result_path,\n",
    "    features=[ArtFeature(factory=ArtParam)],\n",
    "    idxfilter=file_filter\n",
    ").process()\n"
   ]
  },
  {
   "cell_type": "markdown",
   "metadata": {},
   "source": [
    "### List Result files to process"
   ]
  },
  {
   "cell_type": "code",
   "execution_count": 14,
   "metadata": {},
   "outputs": [],
   "source": [
    "result_files = [f for f in os.listdir(result_path) if os.path.isfile(f'{result_path}{f}')]"
   ]
  },
  {
   "cell_type": "markdown",
   "metadata": {},
   "source": [
    "### Acceptance Range Threshold Result Processor"
   ]
  },
  {
   "cell_type": "code",
   "execution_count": 5,
   "metadata": {},
   "outputs": [],
   "source": [
    "class ArtPeformanceResult:\n",
    "    \"\"\" ArtPeformanceResult reads Acceptance Range Threshold and plots a graphs\n",
    "        with precision and recal values.\n",
    "    \"\"\"\n",
    "\n",
    "    def __init__(self, files: Sequence):\n",
    "        self.files = files\n",
    "        self.thresholds = [100, 200, 300, 400, 450, 500, 550, 600, 700, 800]\n",
    "\n",
    "    def run(self) -> Sequence:\n",
    "        print('loading files...')\n",
    "        df = pandas.concat([pandas.read_csv(f) for f in self.files])\n",
    "        values = {}\n",
    "        for threshold in self.thresholds:\n",
    "            # Calculate the precision and recall\n",
    "            counts = df[f'cmtx{threshold}'].value_counts()\n",
    "            precision = getattr(counts, 'TP', 0) / (getattr(counts, 'TP', 0) + getattr(counts, 'FP', 0))\n",
    "            recall = getattr(counts, 'TP', 0) / (getattr(counts, 'TP', 0) + getattr(counts, 'FN', 0))\n",
    "            values[threshold] = [precision, recall]\n",
    "        return values"
   ]
  },
  {
   "cell_type": "markdown",
   "metadata": {},
   "source": [
    "### Acceptance Range Threshold Performance Results for Low Density\n"
   ]
  },
  {
   "cell_type": "code",
   "execution_count": 16,
   "metadata": {},
   "outputs": [
    {
     "name": "stdout",
     "output_type": "stream",
     "text": [
      "loading files...\n"
     ]
    },
    {
     "name": "stderr",
     "output_type": "stream",
     "text": [
      "\n",
      "KeyboardInterrupt\n",
      "\n"
     ]
    }
   ],
   "source": [
    "low_density_indexes = VEHICULAR_LOW_ATTACK1_HIGH\n",
    "low_density_files = list(filter(lambda f: int(re.search(r'\\d+', f).group()) in low_density_indexes, result_files))\n",
    "low_density_files = list(map(lambda f: f'{result_path}{f}', low_density_files))\n",
    "data = ArtPeformanceResult(files=low_density_files).run()\n",
    "df = pandas.DataFrame.from_dict(data, orient='index', columns=['Precision', 'Recall'])\n",
    "print(df)\n",
    "plt.plot(df['Recall'], df['Precision'], color='blue', marker='o')\n",
    "plt.title('Attacker Type 1 (30.0% Attackers)', fontsize=14)\n",
    "plt.xlabel('Recall', fontsize=16)\n",
    "plt.ylabel('Precision', fontsize=16)\n",
    "plt.grid(True)\n",
    "plt.show()\n"
   ]
  }
 ],
 "metadata": {
  "interpreter": {
   "hash": "0ad672d8ebba2c814a8fe095fb86ded7e8e1d449ef782df77117d693d315c458"
  },
  "kernelspec": {
   "display_name": "Python 3.9.5 ('venv': venv)",
   "language": "python",
   "name": "python3"
  },
  "language_info": {
   "codemirror_mode": {
    "name": "ipython",
    "version": 3
   },
   "file_extension": ".py",
   "mimetype": "text/x-python",
   "name": "python",
   "nbconvert_exporter": "python",
   "pygments_lexer": "ipython3",
   "version": "3.9.5"
  },
  "orig_nbformat": 4
 },
 "nbformat": 4,
 "nbformat_minor": 2
}
